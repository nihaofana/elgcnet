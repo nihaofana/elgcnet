{
  "cells": [
    {
      "cell_type": "markdown",
      "metadata": {},
      "source": [
        "# ELGC-Net 快速训练 (GitHub集成版)\n",
        "\n",
        "这个Notebook直接使用GitHub中的配置文件，无需手动创建任何文件。\n",
        "\n",
        "## 步骤概览\n",
        "1. 挂载Google Drive\n",
        "2. 克隆项目\n",
        "3. 安装依赖\n",
        "4. 准备数据集\n",
        "5. 开始训练\n",
        "6. 评估模型（可选）\n",
        "7. 保存结果（可选）"
      ]
    },
    {
      "cell_type": "code",
      "execution_count": null,
      "metadata": {},
      "outputs": [],
      "source": [
        "# 1. 挂载Google Drive并设置环境\n",
        "from google.colab import drive\n",
        "drive.mount('/content/drive')\n",
        "\n",
        "import os\n",
        "os.environ['PYTORCH_CUDA_ALLOC_CONF'] = 'max_split_size_mb:128'\n",
        "\n",
        "# 检查GPU\n",
        "!nvidia-smi"
      ]
    },
    {
      "cell_type": "code",
      "execution_count": null,
      "metadata": {},
      "outputs": [],
      "source": [
        "# 2. 克隆项目（包含colab文件夹）\n",
        "!rm -rf /content/elgcnet  # 清理旧文件\n",
        "!git clone https://github.com/techmn/elgcnet.git /content/elgcnet\n",
        "%cd /content/elgcnet\n",
        "\n",
        "# 查看colab目录\n",
        "!ls -la colab/"
      ]
    },
    {
      "cell_type": "code",
      "execution_count": null,
      "metadata": {},
      "outputs": [],
      "source": [
        "# 3. 安装依赖\n",
        "!pip install einops==0.3.2 timm==0.9.16 fvcore opencv-python scikit-learn tqdm -q\n",
        "\n",
        "import torch\n",
        "print(f\"PyTorch: {torch.__version__}\")\n",
        "print(f\"CUDA可用: {torch.cuda.is_available()}\")"
      ]
    },
    {
      "cell_type": "code",
      "execution_count": null,
      "metadata": {},
      "outputs": [],
      "source": [
        "# 4. 准备数据集（仅复制部分数据以加快训练）\n",
        "!python colab/prepare_data.py --train_samples 100 --val_samples 25 --test_samples 25"
      ]
    },
    {
      "cell_type": "code",
      "execution_count": null,
      "metadata": {},
      "outputs": [],
      "source": [
        "# 5. 开始训练\n",
        "!python colab/train_colab.py"
      ]
    },
    {
      "cell_type": "markdown",
      "metadata": {},
      "source": [
        "## 可选操作"
      ]
    },
    {
      "cell_type": "code",
      "execution_count": null,
      "metadata": {},
      "outputs": [],
      "source": [
        "# 6. 评估模型（可选）\n",
        "!python colab/eval_colab.py"
      ]
    },
    {
      "cell_type": "code",
      "execution_count": null,
      "metadata": {},
      "outputs": [],
      "source": [
        "# 7. 保存结果到Drive（可选）\n",
        "!python colab/save_results.py"
      ]
    },
    {
      "cell_type": "code",
      "execution_count": null,
      "metadata": {},
      "outputs": [],
      "source": [
        "# 8. 监控GPU使用（可选）\n",
        "# 在训练过程中，在新的cell中运行此代码\n",
        "import sys\n",
        "sys.path.append('/content/elgcnet/colab')\n",
        "from monitor_training import monitor_gpu\n",
        "\n",
        "# 监控60秒\n",
        "monitor_gpu(duration=60, interval=2)"
      ]
    },
    {
      "cell_type": "markdown",
      "metadata": {},
      "source": [
        "## 配置说明\n",
        "\n",
        "### 修改训练参数\n",
        "如需修改训练参数，编辑 `colab/colab_config.py`：\n",
        "\n",
        "```python\n",
        "class ColabConfig:\n",
        "    BATCH_SIZE = 8      # 批次大小\n",
        "    MAX_EPOCHS = 100    # 训练轮数\n",
        "    LEARNING_RATE = 0.00031  # 学习率\n",
        "```\n",
        "\n",
        "### 数据集路径\n",
        "确保数据集在Google Drive的以下位置：\n",
        "```\n",
        "/content/drive/My Drive/Change_Detection/LEVIR-CD-256/\n",
        "```\n",
        "\n",
        "### 故障排除\n",
        "1. **GPU内存不足**：减小BATCH_SIZE\n",
        "2. **找不到数据集**：检查Google Drive路径\n",
        "3. **训练中断**：模型会自动保存，可以从检查点恢复"
      ]
    }
  ],
  "metadata": {
    "accelerator": "GPU",
    "colab": {
      "collapsed_sections": [],
      "gpuType": "T4",
      "provenance": []
    },
    "kernelspec": {
      "display_name": "Python 3",
      "name": "python3"
    },
    "language_info": {
      "name": "python"
    }
  },
  "nbformat": 4,
  "nbformat_minor": 0
}
